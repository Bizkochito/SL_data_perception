{
 "cells": [
  {
   "cell_type": "code",
   "execution_count": null,
   "metadata": {},
   "outputs": [],
   "source": [
    "import pandas as pd\n",
    "import random\n",
    "import datetime\n",
    "\n",
    "def random_date(start, end):\n",
    "  return (start + datetime.timedelta(\n",
    "      seconds=random.randint(0, int((end - start).total_seconds())))).isoformat()\n",
    "\n",
    "\n",
    "headers = [\"polarity\", \"source\", \"date\", \"title\", \"text\", \"language\"]\n",
    "#200 articles\n",
    "polarities= [((random.randint(0,200)-100)/100) for x in range(200)]\n",
    "sources_ref = [\"lesoir\", \"standaard\", \"rtbf\"]\n",
    "sources = [random.sample(sources_ref, 1)[0] for x in range(200)]\n",
    "dates = [random_date(datetime.datetime(2010, 1, 1), datetime.datetime(2021, 1, 12)) for x in range(200)]\n",
    "languages_ref = ['fr', 'nl']\n",
    "languages = [random.sample(languages_ref, 1)[0] for x in range(200)]\n",
    "\n",
    "fake_df = pd.DataFrame({\"polarity\": polarities, \"source\": sources, \"date\": dates, \"language\": languages})\n",
    "#print(fake_df.head(5))"
   ]
  },
  {
   "cell_type": "code",
   "execution_count": 1,
   "metadata": {},
   "outputs": [],
   "source": [
    "import pymongo\n",
    "import pandas as pd\n",
    "import streamlit as st\n",
    "import altair as alt\n",
    "from PIL import Image\n",
    "import re\n",
    "import os\n",
    "from dotenv import load_dotenv"
   ]
  },
  {
   "cell_type": "code",
   "execution_count": 3,
   "metadata": {},
   "outputs": [
    {
     "data": {
      "text/plain": [
       "{'_id': ObjectId('64d4af3c38e8e2be057aabd8'),\n",
       " 'url': 'https://www.lalibre.be/international/europe/2023/08/10/elle-est-doublement-miraculee-comment-une-residente-du-gite-pour-personne-handicapees-qui-a-brule-en-alsace-a-survecu-US7TTYGZGZDG5M37KR6NR5SUAU/',\n",
       " 'title': '”Elle est doublement miraculée”\\xa0: comment une résidente du gîte pour personnes handicapées qui a brûlé en Alsace a survécu',\n",
       " 'text': 'Ce mercredi, un incendie dramatique a eu lieu à Wintzenheim dans le Haut-Rhin. Un gîte, où des personnes en situation de handicap séjournaient, a pris feu, ce qui a causé la mort de 11 personnes. 17 des 28 personnes présentes dans le bâtiment ont su s’en sortir.Une jeune femme de 25 ans atteinte d’un handicap mental, coincée par les flammes, a été miraculée. Elle a sauté du premier étage et a été amortie par un autre résident du gîte, parvenant ainsi à s’en sortir.Denis Renaud, président de l’AEIM (Adultes enfants inadaptés mentaux) de Nancy, a réagi auprès de BFM TV : “C’était une jeune femme qui bénéficiait du séjour, elle a réussi à sauter de la fenêtre du premier étage pour se sauver, et est absolument miraculée au regard des circonstances”.“Elle dit qu’elle a été réveillée par le bruit du feu, elle n’a pas compris ce qui se passait. Elle a voulu descendre, elle a ouvert la porte, elle s’est retrouvée face à un mur orange. Elle a compris que c’était du feu, elle a refermé la porte et voulu aller dans sa chambre lorsqu’elle a entendu et vu des objets qui tombaient”, a-t-il poursuivi. “Elle a eu un réflexe de survie, elle a ouvert la fenêtre, il y avait un résident du rez-de-chaussée qui était sorti, qui l’a vue, elle a sauté dans ses bras”.D’après lui, la jeune femme aurait essayé de réveiller les autres personnes présentes dans le gîte en criant mais n’a pas obtenu de réponse. “Elle est doublement miraculée, elle s’est réveillée alors que les autres n’ont pas eu cette chance, et d’autre part parce qu’en sautant il y a eu quelqu’un pour amortir sa chute”, commente encore Denis Renaud.La jeune femme de 25 ans devrait rencontrer Elisabeth Borne dans les heures à venir.',\n",
       " 'date': '2023-08-10'}"
      ]
     },
     "execution_count": 3,
     "metadata": {},
     "output_type": "execute_result"
    }
   ],
   "source": [
    "\n",
    "\n",
    "load_dotenv()\n",
    "connection = os.getenv(\"MONGODB_URI\")\n",
    "client = pymongo.MongoClient(connection)\n",
    "db = client.get_database ('bouman_datatank')\n",
    "col = db[\"articles\"]\n",
    "news = col.find().limit(10)\n",
    "\n",
    "\n",
    "news[0]"
   ]
  }
 ],
 "metadata": {
  "kernelspec": {
   "display_name": "venv",
   "language": "python",
   "name": "python3"
  },
  "language_info": {
   "codemirror_mode": {
    "name": "ipython",
    "version": 3
   },
   "file_extension": ".py",
   "mimetype": "text/x-python",
   "name": "python",
   "nbconvert_exporter": "python",
   "pygments_lexer": "ipython3",
   "version": "3.11.2"
  },
  "orig_nbformat": 4
 },
 "nbformat": 4,
 "nbformat_minor": 2
}
