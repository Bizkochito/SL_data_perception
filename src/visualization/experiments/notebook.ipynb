{
 "cells": [
  {
   "cell_type": "code",
   "execution_count": null,
   "metadata": {},
   "outputs": [],
   "source": [
    "import pandas as pd\n",
    "import random\n",
    "import datetime\n",
    "\n",
    "def random_date(start, end):\n",
    "  return (start + datetime.timedelta(\n",
    "      seconds=random.randint(0, int((end - start).total_seconds())))).isoformat()\n",
    "\n",
    "\n",
    "headers = [\"polarity\", \"source\", \"date\", \"title\", \"text\", \"language\"]\n",
    "#200 articles\n",
    "polarities= [((random.randint(0,200)-100)/100) for x in range(200)]\n",
    "sources_ref = [\"lesoir\", \"standaard\", \"rtbf\"]\n",
    "sources = [random.sample(sources_ref, 1)[0] for x in range(200)]\n",
    "dates = [random_date(datetime.datetime(2010, 1, 1), datetime.datetime(2021, 1, 12)) for x in range(200)]\n",
    "languages_ref = ['fr', 'nl']\n",
    "languages = [random.sample(languages_ref, 1)[0] for x in range(200)]\n",
    "\n",
    "fake_df = pd.DataFrame({\"polarity\": polarities, \"source\": sources, \"date\": dates, \"language\": languages})\n",
    "#print(fake_df.head(5))"
   ]
  },
  {
   "cell_type": "code",
   "execution_count": 2,
   "metadata": {},
   "outputs": [],
   "source": [
    "import pymongo\n",
    "import pandas as pd\n",
    "import streamlit as st\n",
    "import altair as alt\n",
    "from PIL import Image\n",
    "import re\n",
    "import os\n",
    "from dotenv import load_dotenv"
   ]
  },
  {
   "cell_type": "code",
   "execution_count": 11,
   "metadata": {},
   "outputs": [],
   "source": [
    "\n",
    "\n",
    "load_dotenv()\n",
    "connection = os.getenv(\"MONGODB_URI\")\n",
    "client = pymongo.MongoClient(connection)\n",
    "db = client.get_database ('bouman_datatank')\n",
    "col = db[\"articles\"]\n",
    "query = {\n",
    "    \"$and\": [\n",
    "        {\"embeding\": {\"$exists\": True}},\n",
    "        {\"language\": None}\n",
    "    ]\n",
    "    }\n",
    "news = col.find(query)\n",
    "\n",
    "df = pd.DataFrame(data=news)\n",
    "# news[1000]\n"
   ]
  }
 ],
 "metadata": {
  "kernelspec": {
   "display_name": "venv",
   "language": "python",
   "name": "python3"
  },
  "language_info": {
   "codemirror_mode": {
    "name": "ipython",
    "version": 3
   },
   "file_extension": ".py",
   "mimetype": "text/x-python",
   "name": "python",
   "nbconvert_exporter": "python",
   "pygments_lexer": "ipython3",
   "version": "3.11.2"
  },
  "orig_nbformat": 4
 },
 "nbformat": 4,
 "nbformat_minor": 2
}
