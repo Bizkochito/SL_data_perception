{
 "cells": [
  {
   "cell_type": "code",
   "execution_count": 91,
   "metadata": {},
   "outputs": [],
   "source": [
    "import pymongo\n",
    "import pandas as pd\n",
    "import streamlit as st\n",
    "import altair as alt\n",
    "from PIL import Image\n",
    "import re\n",
    "import os\n",
    "from dotenv import load_dotenv\n",
    "import datetime"
   ]
  },
  {
   "cell_type": "code",
   "execution_count": 92,
   "metadata": {},
   "outputs": [],
   "source": [
    "load_dotenv()\n",
    "connection = os.getenv(\"MONGODB_URI\")\n",
    "client = pymongo.MongoClient(connection)\n",
    "db = client.get_database ('bouman_datatank')\n",
    "col = db[\"articles\"]\n",
    "news = col.find().limit(10000)\n",
    "df = pd.DataFrame(data=news)\n",
    "# news[1000]\n"
   ]
  },
  {
   "cell_type": "code",
   "execution_count": 73,
   "metadata": {},
   "outputs": [],
   "source": [
    "df[\"date\"] = pd.to_datetime(df[\"date\"], errors=\"coerce\")\n",
    "df = df.sort_values(by=\"date\")\n"
   ]
  },
  {
   "cell_type": "code",
   "execution_count": 79,
   "metadata": {},
   "outputs": [
    {
     "data": {
      "text/plain": [
       "Timestamp('2023-08-10 00:00:00')"
      ]
     },
     "execution_count": 79,
     "metadata": {},
     "output_type": "execute_result"
    }
   ],
   "source": [
    "df[\"date\"].iloc[-1]"
   ]
  },
  {
   "cell_type": "code",
   "execution_count": 107,
   "metadata": {},
   "outputs": [
    {
     "data": {
      "text/plain": [
       "pandas.core.frame.DataFrame"
      ]
     },
     "execution_count": 107,
     "metadata": {},
     "output_type": "execute_result"
    }
   ],
   "source": [
    "source_counts = df.groupby([\"source\"]).size().reset_index(name='num_source').sort_values(\"num_source\",ascending=False)\n",
    "type(source_counts)"
   ]
  },
  {
   "cell_type": "code",
   "execution_count": 80,
   "metadata": {},
   "outputs": [
    {
     "data": {
      "text/plain": [
       "Timestamp('2023-06-12 00:00:00')"
      ]
     },
     "execution_count": 80,
     "metadata": {},
     "output_type": "execute_result"
    }
   ],
   "source": [
    "df[\"date\"].iloc[0]"
   ]
  },
  {
   "cell_type": "code",
   "execution_count": 74,
   "metadata": {},
   "outputs": [
    {
     "name": "stdout",
     "output_type": "stream",
     "text": [
      "<DatetimeArray>\n",
      "['2023-06-12 00:00:00', '2023-06-14 00:00:00', '2023-06-15 00:00:00',\n",
      " '2023-06-18 00:00:00', '2023-06-19 00:00:00', '2023-06-20 00:00:00',\n",
      " '2023-06-22 00:00:00', '2023-06-24 00:00:00', '2023-07-08 00:00:00',\n",
      " '2023-07-10 00:00:00', '2023-07-11 00:00:00', '2023-07-12 00:00:00',\n",
      " '2023-07-16 00:00:00', '2023-07-18 00:00:00', '2023-07-19 00:00:00',\n",
      " '2023-07-20 00:00:00', '2023-07-24 00:00:00', '2023-07-26 00:00:00',\n",
      " '2023-07-27 00:00:00', '2023-08-03 00:00:00', '2023-08-09 00:00:00',\n",
      " '2023-08-10 00:00:00']\n",
      "Length: 22, dtype: datetime64[ns]\n"
     ]
    }
   ],
   "source": [
    "print(df[\"date\"].unique())"
   ]
  },
  {
   "cell_type": "code",
   "execution_count": 62,
   "metadata": {},
   "outputs": [],
   "source": [
    "selected_min = datetime.datetime(2020,1,1)\n",
    "selected_max = datetime.datetime(2022,8,1)\n",
    "\n",
    "mask = (df['date'] > selected_min) & (df['date'] <= selected_max)\n",
    "new_df = df.loc[mask]"
   ]
  },
  {
   "cell_type": "code",
   "execution_count": 86,
   "metadata": {},
   "outputs": [],
   "source": [
    "all_sources = [i for i in df[\"source\"].unique()]"
   ]
  },
  {
   "cell_type": "code",
   "execution_count": 87,
   "metadata": {},
   "outputs": [],
   "source": [
    "fr_sources =  [i for i in df[df[\"language\"]==\"fr\"][\"source\"].unique()]"
   ]
  },
  {
   "cell_type": "code",
   "execution_count": 88,
   "metadata": {},
   "outputs": [],
   "source": [
    "nl_sources =  [i for i in df[df[\"language\"]==\"nl\"][\"source\"].unique()]"
   ]
  },
  {
   "cell_type": "code",
   "execution_count": 90,
   "metadata": {},
   "outputs": [
    {
     "name": "stdout",
     "output_type": "stream",
     "text": [
      "['hln', 'knack', 'vrtnws', 'hbvl', 'gva', 'tijd']\n",
      "['lalibre', 'sudinfo', 'levif', 'lesoir', 'rtbf', 'lecho', 'lavenir', 'dhnet']\n",
      "['lalibre', 'sudinfo', 'hln', 'knack', 'levif', 'lesoir', 'rtbf', 'google', 'lecho', 'lavenir', 'dhnet', 'vrtnws', 'nieuwsblad', 'hbvl', 'gva', 'tijd', 'standaard']\n",
      "['lalibre', 'sudinfo', 'levif', 'lesoir', 'rtbf', 'lecho', 'lavenir', 'dhnet', 'hln', 'knack', 'vrtnws', 'hbvl', 'gva', 'tijd']\n"
     ]
    }
   ],
   "source": [
    "print(nl_sources)\n",
    "print(fr_sources)\n",
    "print(all_sources)\n",
    "print(fr_sources+nl_sources)"
   ]
  },
  {
   "cell_type": "code",
   "execution_count": 67,
   "metadata": {},
   "outputs": [
    {
     "data": {
      "text/plain": [
       "0     lalibre\n",
       "1     lalibre\n",
       "2     lalibre\n",
       "3     lalibre\n",
       "4     lalibre\n",
       "       ...   \n",
       "95    lalibre\n",
       "96    lalibre\n",
       "97    lalibre\n",
       "98    lalibre\n",
       "99    lalibre\n",
       "Name: newspaper, Length: 100, dtype: object"
      ]
     },
     "execution_count": 67,
     "metadata": {},
     "output_type": "execute_result"
    }
   ],
   "source": [
    "df[\"newspaper\"]"
   ]
  },
  {
   "cell_type": "code",
   "execution_count": 63,
   "metadata": {},
   "outputs": [
    {
     "name": "stdout",
     "output_type": "stream",
     "text": [
      "<class 'pandas.core.frame.DataFrame'>\n",
      "Index: 8366 entries, 2864 to 8377\n",
      "Data columns (total 14 columns):\n",
      " #   Column              Non-Null Count  Dtype         \n",
      "---  ------              --------------  -----         \n",
      " 0   _id                 8366 non-null   object        \n",
      " 1   url                 8366 non-null   object        \n",
      " 2   title               8366 non-null   object        \n",
      " 3   text                8356 non-null   object        \n",
      " 4   date                8366 non-null   datetime64[ns]\n",
      " 5   cos_score           0 non-null      float64       \n",
      " 6   data_related        0 non-null      float64       \n",
      " 7   embedding           2773 non-null   object        \n",
      " 8   language            0 non-null      float64       \n",
      " 9   polarity            0 non-null      float64       \n",
      " 10  source              2773 non-null   object        \n",
      " 11  article             0 non-null      object        \n",
      " 12  meta                8366 non-null   object        \n",
      " 13  textrazor_response  8356 non-null   object        \n",
      "dtypes: datetime64[ns](1), float64(4), object(9)\n",
      "memory usage: 980.4+ KB\n"
     ]
    }
   ],
   "source": [
    "new_df.info()"
   ]
  },
  {
   "cell_type": "code",
   "execution_count": 18,
   "metadata": {},
   "outputs": [
    {
     "data": {
      "text/plain": [
       "'2020-05-01'"
      ]
     },
     "execution_count": 18,
     "metadata": {},
     "output_type": "execute_result"
    }
   ],
   "source": [
    "df[\"date\"].min()"
   ]
  },
  {
   "cell_type": "code",
   "execution_count": 19,
   "metadata": {},
   "outputs": [
    {
     "data": {
      "text/plain": [
       "'2023-08-10'"
      ]
     },
     "execution_count": 19,
     "metadata": {},
     "output_type": "execute_result"
    }
   ],
   "source": [
    "df[\"date\"].max()"
   ]
  }
 ],
 "metadata": {
  "kernelspec": {
   "display_name": "venv",
   "language": "python",
   "name": "python3"
  },
  "language_info": {
   "codemirror_mode": {
    "name": "ipython",
    "version": 3
   },
   "file_extension": ".py",
   "mimetype": "text/x-python",
   "name": "python",
   "nbconvert_exporter": "python",
   "pygments_lexer": "ipython3",
   "version": "3.11.2"
  },
  "orig_nbformat": 4
 },
 "nbformat": 4,
 "nbformat_minor": 2
}
